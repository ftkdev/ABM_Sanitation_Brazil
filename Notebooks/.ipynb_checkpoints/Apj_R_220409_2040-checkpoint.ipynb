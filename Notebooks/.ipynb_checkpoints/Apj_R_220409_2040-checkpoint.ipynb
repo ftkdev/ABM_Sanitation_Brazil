{
 "cells": [
  {
   "cell_type": "code",
   "execution_count": 1,
   "id": "74beef59",
   "metadata": {},
   "outputs": [],
   "source": [
    "import pandas as pd\n",
    "import numpy as np\n",
    "import matplotlib.pyplot as plt\n",
    "import seaborn as sns\n",
    "import glob"
   ]
  },
  {
   "cell_type": "code",
   "execution_count": 2,
   "id": "0648e86a",
   "metadata": {},
   "outputs": [
    {
     "data": {
      "text/plain": [
       "77"
      ]
     },
     "execution_count": 2,
     "metadata": {},
     "output_type": "execute_result"
    }
   ],
   "source": [
    "filelist = glob.glob(\"/win/Users/faust/Documents/TCC_MBA/ABM_Project/Results_temp/Apj_R/Old/*.csv\")\n",
    "len(filelist)"
   ]
  },
  {
   "cell_type": "code",
   "execution_count": 3,
   "id": "d79ef7c1",
   "metadata": {
    "scrolled": false
   },
   "outputs": [],
   "source": [
    "df = pd.DataFrame()\n",
    "for file in filelist:\n",
    "    df_temp = pd.read_csv(file)\n",
    "    df = pd.concat([df, df_temp])"
   ]
  },
  {
   "cell_type": "code",
   "execution_count": 4,
   "id": "c1a62214",
   "metadata": {},
   "outputs": [
    {
     "data": {
      "text/plain": [
       "(2703838, 30)"
      ]
     },
     "execution_count": 4,
     "metadata": {},
     "output_type": "execute_result"
    }
   ],
   "source": [
    "df.shape"
   ]
  },
  {
   "cell_type": "code",
   "execution_count": 5,
   "id": "f3b33d97",
   "metadata": {
    "scrolled": false
   },
   "outputs": [
    {
     "data": {
      "text/plain": [
       "Index(['agente', 'ag_tamanho', 'ag_investimento', 'ag_max_alpha',\n",
       "       'ag_atratividade', 'factor', 'agente_alpha_ofertado', 'bid',\n",
       "       'bid_number', 'estado', 'pop_alvo', 'pop_alvo_ratio', 'pj_tamanho',\n",
       "       'pj_investimento', 'bid_alpha', 'outorga', 'run', 'reruns',\n",
       "       'par_bid_alpha', 'par_std_alpha', 'par_atrat_avg', 'par_std_dev',\n",
       "       'par_number_of_agents', 'par_max_alpha', 'par_atrat_lim',\n",
       "       'par_distribution', 'par_reatividade', 'par_reruns', 'par_runs',\n",
       "       'file_name'],\n",
       "      dtype='object')"
      ]
     },
     "execution_count": 5,
     "metadata": {},
     "output_type": "execute_result"
    }
   ],
   "source": [
    "df.columns"
   ]
  },
  {
   "cell_type": "code",
   "execution_count": 22,
   "id": "11f24bcc",
   "metadata": {},
   "outputs": [
    {
     "data": {
      "text/plain": [
       "[0.5, 0.6, 0.7, 0.8, 0.9, 1.1, 1.2, 1.3, 1.4, 1.5, 1]"
      ]
     },
     "execution_count": 22,
     "metadata": {},
     "output_type": "execute_result"
    }
   ],
   "source": [
    "colunas = sorted(df['par_bid_alpha'].unique().tolist())\n",
    "colunas.remove(1)\n",
    "colunas.append(1)\n",
    "colunas"
   ]
  },
  {
   "cell_type": "code",
   "execution_count": 23,
   "id": "7ed7f17d",
   "metadata": {
    "scrolled": true
   },
   "outputs": [
    {
     "data": {
      "text/html": [
       "<div>\n",
       "<style scoped>\n",
       "    .dataframe tbody tr th:only-of-type {\n",
       "        vertical-align: middle;\n",
       "    }\n",
       "\n",
       "    .dataframe tbody tr th {\n",
       "        vertical-align: top;\n",
       "    }\n",
       "\n",
       "    .dataframe thead th {\n",
       "        text-align: right;\n",
       "    }\n",
       "</style>\n",
       "<table border=\"1\" class=\"dataframe\">\n",
       "  <thead>\n",
       "    <tr style=\"text-align: right;\">\n",
       "      <th></th>\n",
       "      <th>0.5</th>\n",
       "      <th>0.6</th>\n",
       "      <th>0.7</th>\n",
       "      <th>0.8</th>\n",
       "      <th>0.9</th>\n",
       "      <th>1.0</th>\n",
       "      <th>1.1</th>\n",
       "      <th>1.2</th>\n",
       "      <th>1.3</th>\n",
       "      <th>1.4</th>\n",
       "      <th>1.5</th>\n",
       "    </tr>\n",
       "  </thead>\n",
       "  <tbody>\n",
       "    <tr>\n",
       "      <th>0.0</th>\n",
       "      <td>0.96</td>\n",
       "      <td>0.94</td>\n",
       "      <td>0.90</td>\n",
       "      <td>0.87</td>\n",
       "      <td>0.82</td>\n",
       "      <td>0.75</td>\n",
       "      <td>0.63</td>\n",
       "      <td>0.46</td>\n",
       "      <td>0.27</td>\n",
       "      <td>0.07</td>\n",
       "      <td>0.00</td>\n",
       "    </tr>\n",
       "    <tr>\n",
       "      <th>0.1</th>\n",
       "      <td>0.97</td>\n",
       "      <td>0.96</td>\n",
       "      <td>0.94</td>\n",
       "      <td>0.90</td>\n",
       "      <td>0.86</td>\n",
       "      <td>0.81</td>\n",
       "      <td>0.75</td>\n",
       "      <td>0.63</td>\n",
       "      <td>0.44</td>\n",
       "      <td>0.26</td>\n",
       "      <td>0.07</td>\n",
       "    </tr>\n",
       "    <tr>\n",
       "      <th>0.2</th>\n",
       "      <td>0.98</td>\n",
       "      <td>0.97</td>\n",
       "      <td>0.96</td>\n",
       "      <td>0.93</td>\n",
       "      <td>0.90</td>\n",
       "      <td>0.85</td>\n",
       "      <td>0.81</td>\n",
       "      <td>0.75</td>\n",
       "      <td>0.63</td>\n",
       "      <td>0.45</td>\n",
       "      <td>0.26</td>\n",
       "    </tr>\n",
       "    <tr>\n",
       "      <th>0.3</th>\n",
       "      <td>0.98</td>\n",
       "      <td>0.98</td>\n",
       "      <td>0.97</td>\n",
       "      <td>0.96</td>\n",
       "      <td>0.93</td>\n",
       "      <td>0.90</td>\n",
       "      <td>0.85</td>\n",
       "      <td>0.81</td>\n",
       "      <td>0.76</td>\n",
       "      <td>0.62</td>\n",
       "      <td>0.45</td>\n",
       "    </tr>\n",
       "    <tr>\n",
       "      <th>0.4</th>\n",
       "      <td>0.98</td>\n",
       "      <td>0.98</td>\n",
       "      <td>0.98</td>\n",
       "      <td>0.97</td>\n",
       "      <td>0.96</td>\n",
       "      <td>0.93</td>\n",
       "      <td>0.89</td>\n",
       "      <td>0.86</td>\n",
       "      <td>0.82</td>\n",
       "      <td>0.76</td>\n",
       "      <td>0.63</td>\n",
       "    </tr>\n",
       "    <tr>\n",
       "      <th>0.5</th>\n",
       "      <td>0.98</td>\n",
       "      <td>0.98</td>\n",
       "      <td>0.99</td>\n",
       "      <td>0.98</td>\n",
       "      <td>0.97</td>\n",
       "      <td>0.76</td>\n",
       "      <td>0.96</td>\n",
       "      <td>0.93</td>\n",
       "      <td>0.90</td>\n",
       "      <td>0.86</td>\n",
       "      <td>0.82</td>\n",
       "    </tr>\n",
       "  </tbody>\n",
       "</table>\n",
       "</div>"
      ],
      "text/plain": [
       "      0.5   0.6   0.7   0.8   0.9   1.0   1.1   1.2   1.3   1.4   1.5\n",
       "0.0  0.96  0.94  0.90  0.87  0.82  0.75  0.63  0.46  0.27  0.07  0.00\n",
       "0.1  0.97  0.96  0.94  0.90  0.86  0.81  0.75  0.63  0.44  0.26  0.07\n",
       "0.2  0.98  0.97  0.96  0.93  0.90  0.85  0.81  0.75  0.63  0.45  0.26\n",
       "0.3  0.98  0.98  0.97  0.96  0.93  0.90  0.85  0.81  0.76  0.62  0.45\n",
       "0.4  0.98  0.98  0.98  0.97  0.96  0.93  0.89  0.86  0.82  0.76  0.63\n",
       "0.5  0.98  0.98  0.99  0.98  0.97  0.76  0.96  0.93  0.90  0.86  0.82"
      ]
     },
     "execution_count": 23,
     "metadata": {},
     "output_type": "execute_result"
    }
   ],
   "source": [
    "lista_reat = [0, 0.1, 0.2, 0.3, 0.4, 0.5]\n",
    "table_list = []\n",
    "for n in lista_reat:\n",
    "    filt = (\n",
    "         (df['agente'] == 'nobid')\n",
    "        & (df['par_reatividade'] == n)\n",
    "    )\n",
    "\n",
    "    dfx = df.loc[filt]\n",
    "    line = dfx.pivot_table(index=['par_reatividade', 'run'], values='pop_alvo_ratio',\n",
    "                          columns='file_name', aggfunc=np.sum).mean().tolist()\n",
    "    table_list.append(line)\n",
    "# table_list\n",
    "# pd.DataFrame(table_list, index=lista_reat)\n",
    "df_final1 = 1 - pd.DataFrame(table_list, columns=colunas, index=lista_reat)\n",
    "df_final1 = df_final1.reindex(sorted(df_final1.columns), axis=1).round(2)\n",
    "df_final1\n",
    "#Cobertura"
   ]
  },
  {
   "cell_type": "code",
   "execution_count": 24,
   "id": "ceafbc65",
   "metadata": {},
   "outputs": [],
   "source": [
    "df_pop = df_final1.reset_index().melt(id_vars='index', var_name='Apj',\n",
    "                                     value_name='coverage').set_index(['index', 'Apj'])"
   ]
  },
  {
   "cell_type": "code",
   "execution_count": 25,
   "id": "9682f008",
   "metadata": {
    "scrolled": false
   },
   "outputs": [
    {
     "data": {
      "text/html": [
       "<div>\n",
       "<style scoped>\n",
       "    .dataframe tbody tr th:only-of-type {\n",
       "        vertical-align: middle;\n",
       "    }\n",
       "\n",
       "    .dataframe tbody tr th {\n",
       "        vertical-align: top;\n",
       "    }\n",
       "\n",
       "    .dataframe thead th {\n",
       "        text-align: right;\n",
       "    }\n",
       "</style>\n",
       "<table border=\"1\" class=\"dataframe\">\n",
       "  <thead>\n",
       "    <tr style=\"text-align: right;\">\n",
       "      <th></th>\n",
       "      <th>0.5</th>\n",
       "      <th>0.6</th>\n",
       "      <th>0.7</th>\n",
       "      <th>0.8</th>\n",
       "      <th>0.9</th>\n",
       "      <th>1.0</th>\n",
       "      <th>1.1</th>\n",
       "      <th>1.2</th>\n",
       "      <th>1.3</th>\n",
       "      <th>1.4</th>\n",
       "      <th>1.5</th>\n",
       "    </tr>\n",
       "  </thead>\n",
       "  <tbody>\n",
       "    <tr>\n",
       "      <th>0.0</th>\n",
       "      <td>0.84</td>\n",
       "      <td>0.88</td>\n",
       "      <td>0.90</td>\n",
       "      <td>0.91</td>\n",
       "      <td>0.91</td>\n",
       "      <td>0.86</td>\n",
       "      <td>0.76</td>\n",
       "      <td>0.58</td>\n",
       "      <td>0.35</td>\n",
       "      <td>0.09</td>\n",
       "      <td>0.00</td>\n",
       "    </tr>\n",
       "    <tr>\n",
       "      <th>0.1</th>\n",
       "      <td>0.84</td>\n",
       "      <td>0.89</td>\n",
       "      <td>0.92</td>\n",
       "      <td>0.94</td>\n",
       "      <td>0.95</td>\n",
       "      <td>0.93</td>\n",
       "      <td>0.90</td>\n",
       "      <td>0.79</td>\n",
       "      <td>0.58</td>\n",
       "      <td>0.36</td>\n",
       "      <td>0.11</td>\n",
       "    </tr>\n",
       "    <tr>\n",
       "      <th>0.2</th>\n",
       "      <td>0.84</td>\n",
       "      <td>0.90</td>\n",
       "      <td>0.94</td>\n",
       "      <td>0.97</td>\n",
       "      <td>0.98</td>\n",
       "      <td>0.98</td>\n",
       "      <td>0.97</td>\n",
       "      <td>0.96</td>\n",
       "      <td>0.85</td>\n",
       "      <td>0.65</td>\n",
       "      <td>0.40</td>\n",
       "    </tr>\n",
       "    <tr>\n",
       "      <th>0.3</th>\n",
       "      <td>0.85</td>\n",
       "      <td>0.90</td>\n",
       "      <td>0.95</td>\n",
       "      <td>0.99</td>\n",
       "      <td>1.02</td>\n",
       "      <td>1.03</td>\n",
       "      <td>1.04</td>\n",
       "      <td>1.06</td>\n",
       "      <td>1.07</td>\n",
       "      <td>0.93</td>\n",
       "      <td>0.71</td>\n",
       "    </tr>\n",
       "    <tr>\n",
       "      <th>0.4</th>\n",
       "      <td>0.85</td>\n",
       "      <td>0.91</td>\n",
       "      <td>0.96</td>\n",
       "      <td>1.00</td>\n",
       "      <td>1.04</td>\n",
       "      <td>1.07</td>\n",
       "      <td>1.11</td>\n",
       "      <td>1.16</td>\n",
       "      <td>1.21</td>\n",
       "      <td>1.20</td>\n",
       "      <td>1.03</td>\n",
       "    </tr>\n",
       "    <tr>\n",
       "      <th>0.5</th>\n",
       "      <td>0.84</td>\n",
       "      <td>0.91</td>\n",
       "      <td>0.96</td>\n",
       "      <td>1.02</td>\n",
       "      <td>1.06</td>\n",
       "      <td>1.31</td>\n",
       "      <td>1.10</td>\n",
       "      <td>1.18</td>\n",
       "      <td>1.27</td>\n",
       "      <td>1.33</td>\n",
       "      <td>1.38</td>\n",
       "    </tr>\n",
       "  </tbody>\n",
       "</table>\n",
       "</div>"
      ],
      "text/plain": [
       "      0.5   0.6   0.7   0.8   0.9   1.0   1.1   1.2   1.3   1.4   1.5\n",
       "0.0  0.84  0.88  0.90  0.91  0.91  0.86  0.76  0.58  0.35  0.09  0.00\n",
       "0.1  0.84  0.89  0.92  0.94  0.95  0.93  0.90  0.79  0.58  0.36  0.11\n",
       "0.2  0.84  0.90  0.94  0.97  0.98  0.98  0.97  0.96  0.85  0.65  0.40\n",
       "0.3  0.85  0.90  0.95  0.99  1.02  1.03  1.04  1.06  1.07  0.93  0.71\n",
       "0.4  0.85  0.91  0.96  1.00  1.04  1.07  1.11  1.16  1.21  1.20  1.03\n",
       "0.5  0.84  0.91  0.96  1.02  1.06  1.31  1.10  1.18  1.27  1.33  1.38"
      ]
     },
     "execution_count": 25,
     "metadata": {},
     "output_type": "execute_result"
    }
   ],
   "source": [
    "lista_reat = [0, 0.1, 0.2, 0.3, 0.4, 0.5]\n",
    "table_list = []\n",
    "for reat in lista_reat:\n",
    "    filt = (\n",
    "#          (df['agente'] == 'nobid')\n",
    "        (df['par_reatividade'] == reat)\n",
    "    )\n",
    "\n",
    "    dfx = df.loc[filt]\n",
    "    line = dfx.pivot_table(index=['par_reatividade', 'run'], values='bid',\n",
    "                          columns='file_name', aggfunc=np.sum).mean().tolist()\n",
    "    table_list.append(line)\n",
    "\n",
    "df_final2 = pd.DataFrame(table_list, columns=colunas, index=lista_reat)\n",
    "df_final2 = df_final2.reindex(sorted(df_final2.columns), axis=1).round(2)\n",
    "df_final2\n",
    "#Outorga"
   ]
  },
  {
   "cell_type": "code",
   "execution_count": 26,
   "id": "aee869b1",
   "metadata": {
    "scrolled": true
   },
   "outputs": [],
   "source": [
    "df_bid = df_final2.reset_index().melt(id_vars='index', var_name='Apj', value_name='bid').set_index(['index', 'Apj'])"
   ]
  },
  {
   "cell_type": "code",
   "execution_count": 27,
   "id": "072df298",
   "metadata": {
    "scrolled": true
   },
   "outputs": [
    {
     "data": {
      "text/html": [
       "<div>\n",
       "<style scoped>\n",
       "    .dataframe tbody tr th:only-of-type {\n",
       "        vertical-align: middle;\n",
       "    }\n",
       "\n",
       "    .dataframe tbody tr th {\n",
       "        vertical-align: top;\n",
       "    }\n",
       "\n",
       "    .dataframe thead th {\n",
       "        text-align: right;\n",
       "    }\n",
       "</style>\n",
       "<table border=\"1\" class=\"dataframe\">\n",
       "  <thead>\n",
       "    <tr style=\"text-align: right;\">\n",
       "      <th></th>\n",
       "      <th>0.5</th>\n",
       "      <th>0.6</th>\n",
       "      <th>0.7</th>\n",
       "      <th>0.8</th>\n",
       "      <th>0.9</th>\n",
       "      <th>1.0</th>\n",
       "      <th>1.1</th>\n",
       "      <th>1.2</th>\n",
       "      <th>1.3</th>\n",
       "      <th>1.4</th>\n",
       "      <th>1.5</th>\n",
       "    </tr>\n",
       "  </thead>\n",
       "  <tbody>\n",
       "    <tr>\n",
       "      <th>0.0</th>\n",
       "      <td>25.0</td>\n",
       "      <td>25.0</td>\n",
       "      <td>25.0</td>\n",
       "      <td>25.0</td>\n",
       "      <td>25.0</td>\n",
       "      <td>25.0</td>\n",
       "      <td>25.0</td>\n",
       "      <td>25.0</td>\n",
       "      <td>25.0</td>\n",
       "      <td>25.0</td>\n",
       "      <td>25.0</td>\n",
       "    </tr>\n",
       "    <tr>\n",
       "      <th>0.1</th>\n",
       "      <td>27.4</td>\n",
       "      <td>28.6</td>\n",
       "      <td>29.7</td>\n",
       "      <td>30.9</td>\n",
       "      <td>31.8</td>\n",
       "      <td>33.3</td>\n",
       "      <td>36.4</td>\n",
       "      <td>40.5</td>\n",
       "      <td>44.9</td>\n",
       "      <td>48.7</td>\n",
       "      <td>50.0</td>\n",
       "    </tr>\n",
       "    <tr>\n",
       "      <th>0.2</th>\n",
       "      <td>27.6</td>\n",
       "      <td>28.6</td>\n",
       "      <td>29.9</td>\n",
       "      <td>31.0</td>\n",
       "      <td>32.0</td>\n",
       "      <td>33.5</td>\n",
       "      <td>36.6</td>\n",
       "      <td>40.6</td>\n",
       "      <td>44.9</td>\n",
       "      <td>48.7</td>\n",
       "      <td>50.0</td>\n",
       "    </tr>\n",
       "    <tr>\n",
       "      <th>0.3</th>\n",
       "      <td>27.5</td>\n",
       "      <td>28.8</td>\n",
       "      <td>30.1</td>\n",
       "      <td>31.3</td>\n",
       "      <td>32.3</td>\n",
       "      <td>33.6</td>\n",
       "      <td>36.8</td>\n",
       "      <td>40.9</td>\n",
       "      <td>45.0</td>\n",
       "      <td>48.8</td>\n",
       "      <td>50.0</td>\n",
       "    </tr>\n",
       "    <tr>\n",
       "      <th>0.4</th>\n",
       "      <td>27.4</td>\n",
       "      <td>28.8</td>\n",
       "      <td>30.1</td>\n",
       "      <td>31.3</td>\n",
       "      <td>32.5</td>\n",
       "      <td>33.9</td>\n",
       "      <td>37.1</td>\n",
       "      <td>40.9</td>\n",
       "      <td>45.2</td>\n",
       "      <td>48.8</td>\n",
       "      <td>50.0</td>\n",
       "    </tr>\n",
       "    <tr>\n",
       "      <th>0.5</th>\n",
       "      <td>27.3</td>\n",
       "      <td>28.7</td>\n",
       "      <td>30.1</td>\n",
       "      <td>31.4</td>\n",
       "      <td>32.5</td>\n",
       "      <td>50.0</td>\n",
       "      <td>34.0</td>\n",
       "      <td>37.2</td>\n",
       "      <td>41.1</td>\n",
       "      <td>45.0</td>\n",
       "      <td>48.8</td>\n",
       "    </tr>\n",
       "  </tbody>\n",
       "</table>\n",
       "</div>"
      ],
      "text/plain": [
       "      0.5   0.6   0.7   0.8   0.9   1.0   1.1   1.2   1.3   1.4   1.5\n",
       "0.0  25.0  25.0  25.0  25.0  25.0  25.0  25.0  25.0  25.0  25.0  25.0\n",
       "0.1  27.4  28.6  29.7  30.9  31.8  33.3  36.4  40.5  44.9  48.7  50.0\n",
       "0.2  27.6  28.6  29.9  31.0  32.0  33.5  36.6  40.6  44.9  48.7  50.0\n",
       "0.3  27.5  28.8  30.1  31.3  32.3  33.6  36.8  40.9  45.0  48.8  50.0\n",
       "0.4  27.4  28.8  30.1  31.3  32.5  33.9  37.1  40.9  45.2  48.8  50.0\n",
       "0.5  27.3  28.7  30.1  31.4  32.5  50.0  34.0  37.2  41.1  45.0  48.8"
      ]
     },
     "execution_count": 27,
     "metadata": {},
     "output_type": "execute_result"
    }
   ],
   "source": [
    "lista_reat = [0, 0.1, 0.2, 0.3, 0.4, 0.5]\n",
    "table_list = []\n",
    "for reat in lista_reat:\n",
    "    filt = (\n",
    "#          (df['agente'] == 'nobid')\n",
    "        (df['par_reatividade'] == reat)\n",
    "    )\n",
    "\n",
    "    dfx = df.loc[filt]\n",
    "    line = dfx.pivot_table(index=['par_reatividade', 'run'], values='bid',\n",
    "                          columns='file_name', aggfunc='count').mean().tolist()\n",
    "    table_list.append(line)\n",
    "    \n",
    "df_final3 = pd.DataFrame(table_list, columns=colunas, index=lista_reat)\n",
    "df_final3 = df_final3.reindex(sorted(df_final3.columns), axis=1).round(1)\n",
    "df_final3\n",
    "#Tentativas"
   ]
  },
  {
   "cell_type": "code",
   "execution_count": 28,
   "id": "a0e5962d",
   "metadata": {},
   "outputs": [
    {
     "data": {
      "text/plain": [
       "Float64Index([0.5, 0.6, 0.7, 0.8, 0.9, 1.0, 1.1, 1.2, 1.3, 1.4, 1.5], dtype='float64')"
      ]
     },
     "execution_count": 28,
     "metadata": {},
     "output_type": "execute_result"
    }
   ],
   "source": [
    "df_final3.iloc[0].index"
   ]
  },
  {
   "cell_type": "code",
   "execution_count": 29,
   "id": "4bcd7fb8",
   "metadata": {},
   "outputs": [],
   "source": [
    "df_trys = df_final3.reset_index().melt(id_vars='index', var_name='Apj', \n",
    "                                      value_name='trys').set_index(['index', 'Apj'])"
   ]
  },
  {
   "cell_type": "code",
   "execution_count": 30,
   "id": "c35252b4",
   "metadata": {},
   "outputs": [
    {
     "data": {
      "text/html": [
       "<div>\n",
       "<style scoped>\n",
       "    .dataframe tbody tr th:only-of-type {\n",
       "        vertical-align: middle;\n",
       "    }\n",
       "\n",
       "    .dataframe tbody tr th {\n",
       "        vertical-align: top;\n",
       "    }\n",
       "\n",
       "    .dataframe thead th {\n",
       "        text-align: right;\n",
       "    }\n",
       "</style>\n",
       "<table border=\"1\" class=\"dataframe\">\n",
       "  <thead>\n",
       "    <tr style=\"text-align: right;\">\n",
       "      <th></th>\n",
       "      <th>R</th>\n",
       "      <th>Apj</th>\n",
       "      <th>coverage</th>\n",
       "      <th>bid</th>\n",
       "      <th>trys</th>\n",
       "    </tr>\n",
       "  </thead>\n",
       "  <tbody>\n",
       "    <tr>\n",
       "      <th>0</th>\n",
       "      <td>0.0</td>\n",
       "      <td>0.5</td>\n",
       "      <td>0.96</td>\n",
       "      <td>0.84</td>\n",
       "      <td>25.0</td>\n",
       "    </tr>\n",
       "    <tr>\n",
       "      <th>1</th>\n",
       "      <td>0.1</td>\n",
       "      <td>0.5</td>\n",
       "      <td>0.97</td>\n",
       "      <td>0.84</td>\n",
       "      <td>27.4</td>\n",
       "    </tr>\n",
       "    <tr>\n",
       "      <th>2</th>\n",
       "      <td>0.2</td>\n",
       "      <td>0.5</td>\n",
       "      <td>0.98</td>\n",
       "      <td>0.84</td>\n",
       "      <td>27.6</td>\n",
       "    </tr>\n",
       "    <tr>\n",
       "      <th>3</th>\n",
       "      <td>0.3</td>\n",
       "      <td>0.5</td>\n",
       "      <td>0.98</td>\n",
       "      <td>0.85</td>\n",
       "      <td>27.5</td>\n",
       "    </tr>\n",
       "    <tr>\n",
       "      <th>4</th>\n",
       "      <td>0.4</td>\n",
       "      <td>0.5</td>\n",
       "      <td>0.98</td>\n",
       "      <td>0.85</td>\n",
       "      <td>27.4</td>\n",
       "    </tr>\n",
       "    <tr>\n",
       "      <th>...</th>\n",
       "      <td>...</td>\n",
       "      <td>...</td>\n",
       "      <td>...</td>\n",
       "      <td>...</td>\n",
       "      <td>...</td>\n",
       "    </tr>\n",
       "    <tr>\n",
       "      <th>61</th>\n",
       "      <td>0.1</td>\n",
       "      <td>1.5</td>\n",
       "      <td>0.07</td>\n",
       "      <td>0.11</td>\n",
       "      <td>50.0</td>\n",
       "    </tr>\n",
       "    <tr>\n",
       "      <th>62</th>\n",
       "      <td>0.2</td>\n",
       "      <td>1.5</td>\n",
       "      <td>0.26</td>\n",
       "      <td>0.40</td>\n",
       "      <td>50.0</td>\n",
       "    </tr>\n",
       "    <tr>\n",
       "      <th>63</th>\n",
       "      <td>0.3</td>\n",
       "      <td>1.5</td>\n",
       "      <td>0.45</td>\n",
       "      <td>0.71</td>\n",
       "      <td>50.0</td>\n",
       "    </tr>\n",
       "    <tr>\n",
       "      <th>64</th>\n",
       "      <td>0.4</td>\n",
       "      <td>1.5</td>\n",
       "      <td>0.63</td>\n",
       "      <td>1.03</td>\n",
       "      <td>50.0</td>\n",
       "    </tr>\n",
       "    <tr>\n",
       "      <th>65</th>\n",
       "      <td>0.5</td>\n",
       "      <td>1.5</td>\n",
       "      <td>0.82</td>\n",
       "      <td>1.38</td>\n",
       "      <td>48.8</td>\n",
       "    </tr>\n",
       "  </tbody>\n",
       "</table>\n",
       "<p>66 rows × 5 columns</p>\n",
       "</div>"
      ],
      "text/plain": [
       "      R  Apj  coverage   bid  trys\n",
       "0   0.0  0.5      0.96  0.84  25.0\n",
       "1   0.1  0.5      0.97  0.84  27.4\n",
       "2   0.2  0.5      0.98  0.84  27.6\n",
       "3   0.3  0.5      0.98  0.85  27.5\n",
       "4   0.4  0.5      0.98  0.85  27.4\n",
       "..  ...  ...       ...   ...   ...\n",
       "61  0.1  1.5      0.07  0.11  50.0\n",
       "62  0.2  1.5      0.26  0.40  50.0\n",
       "63  0.3  1.5      0.45  0.71  50.0\n",
       "64  0.4  1.5      0.63  1.03  50.0\n",
       "65  0.5  1.5      0.82  1.38  48.8\n",
       "\n",
       "[66 rows x 5 columns]"
      ]
     },
     "execution_count": 30,
     "metadata": {},
     "output_type": "execute_result"
    }
   ],
   "source": [
    "df_table = pd.concat([df_pop, df_bid, df_trys], axis=1)\n",
    "df_table = df_table.reset_index()\n",
    "df_table.rename(columns = {'index':'R',}, inplace = True)\n",
    "df_table"
   ]
  },
  {
   "cell_type": "code",
   "execution_count": 31,
   "id": "9432048d",
   "metadata": {},
   "outputs": [],
   "source": [
    "df_table.to_excel('/win/Users/faust/Documents/TCC_MBA/ABM_Project/Results_temp/Apj_R/Old/Apj_R_004.xlsx', index=False)"
   ]
  },
  {
   "cell_type": "code",
   "execution_count": 32,
   "id": "f4e05b70",
   "metadata": {
    "scrolled": true
   },
   "outputs": [
    {
     "data": {
      "text/plain": [
       "0.5    0.96\n",
       "0.6    0.94\n",
       "0.7    0.90\n",
       "0.8    0.87\n",
       "0.9    0.82\n",
       "1.0    0.75\n",
       "1.1    0.63\n",
       "1.2    0.46\n",
       "1.3    0.27\n",
       "1.4    0.07\n",
       "1.5    0.00\n",
       "Name: 0.0, dtype: float64"
      ]
     },
     "execution_count": 32,
     "metadata": {},
     "output_type": "execute_result"
    }
   ],
   "source": [
    "df_final1.iloc[0]\n",
    "# df1 = df_final1.transpose()\n",
    "# df1.iloc[:, 0]"
   ]
  },
  {
   "cell_type": "code",
   "execution_count": 33,
   "id": "5e9c588b",
   "metadata": {
    "scrolled": true
   },
   "outputs": [
    {
     "data": {
      "text/plain": [
       "<AxesSubplot:>"
      ]
     },
     "execution_count": 33,
     "metadata": {},
     "output_type": "execute_result"
    },
    {
     "data": {
      "image/png": "[encoded data removed]",
      "text/plain": [
       "<Figure size 432x288 with 1 Axes>"
      ]
     },
     "metadata": {
      "needs_background": "light"
     },
     "output_type": "display_data"
    }
   ],
   "source": [
    "df_final1.iloc[0].plot()"
   ]
  },
  {
   "cell_type": "code",
   "execution_count": 34,
   "id": "3bf1eaea",
   "metadata": {},
   "outputs": [
    {
     "data": {
      "text/plain": [
       "[25.0, 25.0, 25.0, 25.0, 25.0, 25.0, 25.0, 25.0, 25.0, 25.0, 25.0]"
      ]
     },
     "execution_count": 34,
     "metadata": {},
     "output_type": "execute_result"
    }
   ],
   "source": [
    "df_final3.iloc[0].tolist()"
   ]
  },
  {
   "cell_type": "code",
   "execution_count": 35,
   "id": "c3251882",
   "metadata": {},
   "outputs": [
    {
     "data": {
      "text/plain": [
       "[0.5, 0.6, 0.7, 0.8, 0.9, 1.0, 1.1, 1.2, 1.3, 1.4, 1.5]"
      ]
     },
     "execution_count": 35,
     "metadata": {},
     "output_type": "execute_result"
    }
   ],
   "source": [
    "df_final3.iloc[0].index.tolist()"
   ]
  },
  {
   "cell_type": "code",
   "execution_count": 39,
   "id": "83dc5a02",
   "metadata": {},
   "outputs": [
    {
     "data": {
      "image/png": "[encoded data removed]",
      "text/plain": [
       "<Figure size 864x864 with 12 Axes>"
      ]
     },
     "metadata": {
      "needs_background": "light"
     },
     "output_type": "display_data"
    }
   ],
   "source": [
    "fig, axes = plt.subplots(nrows=3, ncols=2, sharex = True, sharey = True,  figsize = [12, 12])\n",
    "ax0, ax1, ax2, ax3, ax4, ax5 = axes.flatten()\n",
    "\n",
    "ax0.plot(df_final1.iloc[0], label='Cobertura')\n",
    "ax0.plot(df_final2.iloc[0], label='Outorga')\n",
    "ax01 = ax0.twinx()\n",
    "ax01.bar(df_final3.iloc[0].index.tolist(), df_final3.iloc[0].tolist(), width=0.05,\n",
    "                label='T Licitações', color='grey', alpha=0.3)\n",
    "# plt.axis([None, None, 0, 100])\n",
    "# plt.legend(loc='upper right')\n",
    "# plt.tick_params(labelright=False)\n",
    "# plt.set_ylabel('Y1-axis')\n",
    "ax01.set_ylim(0, 100)\n",
    "ax01.tick_params(labelright=False)\n",
    "\n",
    "ax1.plot(df_final1.iloc[1])\n",
    "ax1.plot(df_final2.iloc[1])\n",
    "ax11 = ax1.twinx()\n",
    "ax11.bar(df_final3.iloc[1].index.tolist(), df_final3.iloc[1].tolist(), width=0.05, \n",
    "                label='# Licitações', color='grey', alpha=0.3)\n",
    "ax11.set_ylim(0, 100)\n",
    "\n",
    "ax2.plot(df_final1.iloc[2])\n",
    "ax2.plot(df_final2.iloc[2])\n",
    "ax21 = ax2.twinx()\n",
    "ax21.bar(df_final3.iloc[2].index.tolist(), df_final3.iloc[2].tolist(), width=0.05, \n",
    "                label='# Licitações', color='grey', alpha=0.3)\n",
    "ax21.set_ylim(0, 100)\n",
    "ax21.tick_params(labelright=False)\n",
    "\n",
    "ax3.plot(df_final1.iloc[3])\n",
    "ax3.plot(df_final2.iloc[3])\n",
    "ax31 = ax3.twinx()\n",
    "ax31.bar(df_final3.iloc[3].index.tolist(), df_final3.iloc[3].tolist(), width=0.05, \n",
    "                label='# Licitações', color='grey', alpha=0.3)\n",
    "plt.axis([None, None, 0, 100])\n",
    "\n",
    "ax4.plot(df_final1.iloc[4], label='Cobertura')\n",
    "ax4.plot(df_final2.iloc[4], label='Outorga')\n",
    "ax41 = ax4.twinx()\n",
    "ax41.bar(df_final3.iloc[4].index.tolist(), df_final3.iloc[4].tolist(), width=0.05, \n",
    "                label='# Licitações', color='grey', alpha=0.3)\n",
    "plt.axis([None, None, 0, 100])\n",
    "plt.tick_params(labelright=False)\n",
    "\n",
    "ax5.plot(df_final1.iloc[5], label='Cobertura')\n",
    "ax5.plot(df_final2.iloc[5], label='Outorga')\n",
    "ax51 = ax5.twinx()\n",
    "ax51.bar(df_final3.iloc[5].index.tolist(), df_final3.iloc[5].tolist(), width=0.05, \n",
    "                label='# Licitações', color='grey', alpha=0.3)\n",
    "plt.axis([None, None, 0, 100])\n",
    "\n",
    "ax0.set_title('R = 0.0', fontsize=15)\n",
    "ax1.set_title('R = 0.1', fontsize=15)\n",
    "ax2.set_title('R = 0.2', fontsize=15)\n",
    "ax3.set_title('R = 0.3', fontsize=15)\n",
    "ax4.set_title('R = 0.4', fontsize=15)\n",
    "\n",
    "ax0.set(ylabel=\"Cobertura e Outorga\")\n",
    "ax2.set(ylabel=\"Cobertura e Outorga\")\n",
    "ax4.set(xlabel=\"Alpha do projeto\",ylabel=\"Cobertura e Outorga\")\n",
    "ax5.set(xlabel=\"Alpha do projeto\")\n",
    "ax11.set(ylabel='T Licitações')\n",
    "ax31.set(ylabel='T Licitações')\n",
    "ax3.set(xlabel='Alpha do projeto')\n",
    "ax3.tick_params(labelbottom=True)\n",
    "\n",
    "ax0.legend(loc='upper left')\n",
    "ax01.legend(loc='upper right')\n",
    "ax5.set_visible(False)\n",
    "ax51.set_visible(False)\n",
    "\n",
    "ax0.grid(color='grey', linestyle='-', linewidth=0.2)\n",
    "ax1.grid(color='grey', linestyle='-', linewidth=0.2)\n",
    "ax2.grid(color='grey', linestyle='-', linewidth=0.2)\n",
    "ax3.grid(color='grey', linestyle='-', linewidth=0.2)\n",
    "ax4.grid(color='grey', linestyle='-', linewidth=0.2)\n",
    "ax5.grid(color='grey', linestyle='-', linewidth=0.2)"
   ]
  },
  {
   "cell_type": "code",
   "execution_count": null,
   "id": "57f2a90e",
   "metadata": {},
   "outputs": [],
   "source": []
  }
 ],
 "metadata": {
  "kernelspec": {
   "display_name": "Python 3 (ipykernel)",
   "language": "python",
   "name": "python3"
  },
  "language_info": {
   "codemirror_mode": {
    "name": "ipython",
    "version": 3
   },
   "file_extension": ".py",
   "mimetype": "text/x-python",
   "name": "python",
   "nbconvert_exporter": "python",
   "pygments_lexer": "ipython3",
   "version": "3.9.7"
  }
 },
 "nbformat": 4,
 "nbformat_minor": 5
}
