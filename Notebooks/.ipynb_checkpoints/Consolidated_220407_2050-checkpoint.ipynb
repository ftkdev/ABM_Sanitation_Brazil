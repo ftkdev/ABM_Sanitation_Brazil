{
 "cells": [
  {
   "cell_type": "code",
   "execution_count": 1,
   "id": "74beef59",
   "metadata": {},
   "outputs": [],
   "source": [
    "import pandas as pd\n",
    "import numpy as np\n",
    "import matplotlib.pyplot as plt\n",
    "import seaborn as sns\n",
    "import glob"
   ]
  },
  {
   "cell_type": "code",
   "execution_count": 2,
   "id": "0648e86a",
   "metadata": {},
   "outputs": [
    {
     "data": {
      "text/plain": [
       "30"
      ]
     },
     "execution_count": 2,
     "metadata": {},
     "output_type": "execute_result"
    }
   ],
   "source": [
    "filelist = glob.glob(\"/win/Users/faust/Documents/TCC_MBA/ABM_Project/Results_temp/Multiple/*.csv\")\n",
    "len(filelist)"
   ]
  },
  {
   "cell_type": "code",
   "execution_count": 3,
   "id": "d79ef7c1",
   "metadata": {
    "scrolled": false
   },
   "outputs": [],
   "source": [
    "df = pd.DataFrame()\n",
    "for file in filelist:\n",
    "    df_temp = pd.read_csv(file)\n",
    "    df = pd.concat([df, df_temp])"
   ]
  },
  {
   "cell_type": "code",
   "execution_count": 4,
   "id": "c1a62214",
   "metadata": {},
   "outputs": [
    {
     "data": {
      "text/plain": [
       "(1027106, 30)"
      ]
     },
     "execution_count": 4,
     "metadata": {},
     "output_type": "execute_result"
    }
   ],
   "source": [
    "df.shape"
   ]
  },
  {
   "cell_type": "code",
   "execution_count": 5,
   "id": "f3b33d97",
   "metadata": {},
   "outputs": [
    {
     "data": {
      "text/plain": [
       "Index(['agente', 'ag_tamanho', 'ag_investimento', 'ag_max_alpha',\n",
       "       'ag_atratividade', 'factor', 'agente_alpha_ofertado', 'bid',\n",
       "       'bid_number', 'estado', 'pop_alvo', 'pop_alvo_ratio', 'pj_tamanho',\n",
       "       'pj_investimento', 'bid_alpha', 'outorga', 'run', 'reruns',\n",
       "       'par_bid_alpha', 'par_std_alpha', 'par_atrat_avg', 'par_std_dev',\n",
       "       'par_number_of_agents', 'par_max_alpha', 'par_atrat_lim',\n",
       "       'par_distribution', 'par_reatividade', 'par_reruns', 'par_runs',\n",
       "       'file_name'],\n",
       "      dtype='object')"
      ]
     },
     "execution_count": 5,
     "metadata": {},
     "output_type": "execute_result"
    }
   ],
   "source": [
    "df.columns"
   ]
  },
  {
   "cell_type": "code",
   "execution_count": 6,
   "id": "7ed7f17d",
   "metadata": {},
   "outputs": [
    {
     "data": {
      "text/html": [
       "<div>\n",
       "<style scoped>\n",
       "    .dataframe tbody tr th:only-of-type {\n",
       "        vertical-align: middle;\n",
       "    }\n",
       "\n",
       "    .dataframe tbody tr th {\n",
       "        vertical-align: top;\n",
       "    }\n",
       "\n",
       "    .dataframe thead th {\n",
       "        text-align: right;\n",
       "    }\n",
       "</style>\n",
       "<table border=\"1\" class=\"dataframe\">\n",
       "  <thead>\n",
       "    <tr style=\"text-align: right;\">\n",
       "      <th></th>\n",
       "      <th>0.8</th>\n",
       "      <th>0.9</th>\n",
       "      <th>1.0</th>\n",
       "      <th>1.1</th>\n",
       "      <th>1.2</th>\n",
       "      <th>1.3</th>\n",
       "    </tr>\n",
       "  </thead>\n",
       "  <tbody>\n",
       "    <tr>\n",
       "      <th>0.0</th>\n",
       "      <td>0.13</td>\n",
       "      <td>0.18</td>\n",
       "      <td>0.25</td>\n",
       "      <td>0.37</td>\n",
       "      <td>0.54</td>\n",
       "      <td>0.73</td>\n",
       "    </tr>\n",
       "    <tr>\n",
       "      <th>0.1</th>\n",
       "      <td>0.10</td>\n",
       "      <td>0.14</td>\n",
       "      <td>0.19</td>\n",
       "      <td>0.25</td>\n",
       "      <td>0.37</td>\n",
       "      <td>0.56</td>\n",
       "    </tr>\n",
       "    <tr>\n",
       "      <th>0.2</th>\n",
       "      <td>0.07</td>\n",
       "      <td>0.10</td>\n",
       "      <td>0.15</td>\n",
       "      <td>0.19</td>\n",
       "      <td>0.25</td>\n",
       "      <td>0.37</td>\n",
       "    </tr>\n",
       "    <tr>\n",
       "      <th>0.3</th>\n",
       "      <td>0.04</td>\n",
       "      <td>0.07</td>\n",
       "      <td>0.10</td>\n",
       "      <td>0.15</td>\n",
       "      <td>0.19</td>\n",
       "      <td>0.24</td>\n",
       "    </tr>\n",
       "    <tr>\n",
       "      <th>0.4</th>\n",
       "      <td>0.03</td>\n",
       "      <td>0.04</td>\n",
       "      <td>0.07</td>\n",
       "      <td>0.11</td>\n",
       "      <td>0.14</td>\n",
       "      <td>0.18</td>\n",
       "    </tr>\n",
       "  </tbody>\n",
       "</table>\n",
       "</div>"
      ],
      "text/plain": [
       "      0.8   0.9   1.0   1.1   1.2   1.3\n",
       "0.0  0.13  0.18  0.25  0.37  0.54  0.73\n",
       "0.1  0.10  0.14  0.19  0.25  0.37  0.56\n",
       "0.2  0.07  0.10  0.15  0.19  0.25  0.37\n",
       "0.3  0.04  0.07  0.10  0.15  0.19  0.24\n",
       "0.4  0.03  0.04  0.07  0.11  0.14  0.18"
      ]
     },
     "execution_count": 6,
     "metadata": {},
     "output_type": "execute_result"
    }
   ],
   "source": [
    "lista_reat = [0, 0.1, 0.2, 0.3, 0.4]\n",
    "table_list = []\n",
    "for reat in lista_reat:\n",
    "    filt = (\n",
    "         (df['agente'] == 'nobid')\n",
    "        & (df['par_reatividade'] == reat)\n",
    "    )\n",
    "\n",
    "    dfx = df.loc[filt]\n",
    "    line = dfx.pivot_table(index=['par_reatividade', 'run'], values='pop_alvo_ratio',\n",
    "                          columns='file_name', aggfunc=np.sum).mean().tolist()\n",
    "    table_list.append(line) \n",
    "\n",
    "df_final = pd.DataFrame(table_list, columns=[0.8, 0.9, 1.1, 1.2, 1.3, 1.0], index=lista_reat)\n",
    "df_final.reindex(sorted(df_final.columns), axis=1).round(2)"
   ]
  },
  {
   "cell_type": "code",
   "execution_count": 7,
   "id": "9682f008",
   "metadata": {},
   "outputs": [
    {
     "data": {
      "text/html": [
       "<div>\n",
       "<style scoped>\n",
       "    .dataframe tbody tr th:only-of-type {\n",
       "        vertical-align: middle;\n",
       "    }\n",
       "\n",
       "    .dataframe tbody tr th {\n",
       "        vertical-align: top;\n",
       "    }\n",
       "\n",
       "    .dataframe thead th {\n",
       "        text-align: right;\n",
       "    }\n",
       "</style>\n",
       "<table border=\"1\" class=\"dataframe\">\n",
       "  <thead>\n",
       "    <tr style=\"text-align: right;\">\n",
       "      <th></th>\n",
       "      <th>0.8</th>\n",
       "      <th>0.9</th>\n",
       "      <th>1.0</th>\n",
       "      <th>1.1</th>\n",
       "      <th>1.2</th>\n",
       "      <th>1.3</th>\n",
       "    </tr>\n",
       "  </thead>\n",
       "  <tbody>\n",
       "    <tr>\n",
       "      <th>0.0</th>\n",
       "      <td>0.91</td>\n",
       "      <td>0.91</td>\n",
       "      <td>0.86</td>\n",
       "      <td>0.76</td>\n",
       "      <td>0.58</td>\n",
       "      <td>0.35</td>\n",
       "    </tr>\n",
       "    <tr>\n",
       "      <th>0.1</th>\n",
       "      <td>0.94</td>\n",
       "      <td>0.95</td>\n",
       "      <td>0.93</td>\n",
       "      <td>0.90</td>\n",
       "      <td>0.79</td>\n",
       "      <td>0.58</td>\n",
       "    </tr>\n",
       "    <tr>\n",
       "      <th>0.2</th>\n",
       "      <td>0.97</td>\n",
       "      <td>0.98</td>\n",
       "      <td>0.98</td>\n",
       "      <td>0.97</td>\n",
       "      <td>0.96</td>\n",
       "      <td>0.85</td>\n",
       "    </tr>\n",
       "    <tr>\n",
       "      <th>0.3</th>\n",
       "      <td>0.99</td>\n",
       "      <td>1.02</td>\n",
       "      <td>1.03</td>\n",
       "      <td>1.04</td>\n",
       "      <td>1.06</td>\n",
       "      <td>1.07</td>\n",
       "    </tr>\n",
       "    <tr>\n",
       "      <th>0.4</th>\n",
       "      <td>1.00</td>\n",
       "      <td>1.04</td>\n",
       "      <td>1.07</td>\n",
       "      <td>1.11</td>\n",
       "      <td>1.16</td>\n",
       "      <td>1.21</td>\n",
       "    </tr>\n",
       "  </tbody>\n",
       "</table>\n",
       "</div>"
      ],
      "text/plain": [
       "      0.8   0.9   1.0   1.1   1.2   1.3\n",
       "0.0  0.91  0.91  0.86  0.76  0.58  0.35\n",
       "0.1  0.94  0.95  0.93  0.90  0.79  0.58\n",
       "0.2  0.97  0.98  0.98  0.97  0.96  0.85\n",
       "0.3  0.99  1.02  1.03  1.04  1.06  1.07\n",
       "0.4  1.00  1.04  1.07  1.11  1.16  1.21"
      ]
     },
     "execution_count": 7,
     "metadata": {},
     "output_type": "execute_result"
    }
   ],
   "source": [
    "lista_reat = [0, 0.1, 0.2, 0.3, 0.4]\n",
    "table_list = []\n",
    "for reat in lista_reat:\n",
    "    filt = (\n",
    "#          (df['agente'] == 'nobid')\n",
    "        (df['par_reatividade'] == reat)\n",
    "    )\n",
    "\n",
    "    dfx = df.loc[filt]\n",
    "    line = dfx.pivot_table(index=['par_reatividade', 'run'], values='bid',\n",
    "                          columns='file_name', aggfunc=np.sum).mean().tolist()\n",
    "    table_list.append(line)\n",
    "\n",
    "df_final = pd.DataFrame(table_list, columns=[0.8, 0.9, 1.1, 1.2, 1.3, 1.0], index=lista_reat)\n",
    "df_final.reindex(sorted(df_final.columns), axis=1).round(2)"
   ]
  },
  {
   "cell_type": "code",
   "execution_count": 8,
   "id": "072df298",
   "metadata": {},
   "outputs": [
    {
     "data": {
      "text/html": [
       "<div>\n",
       "<style scoped>\n",
       "    .dataframe tbody tr th:only-of-type {\n",
       "        vertical-align: middle;\n",
       "    }\n",
       "\n",
       "    .dataframe tbody tr th {\n",
       "        vertical-align: top;\n",
       "    }\n",
       "\n",
       "    .dataframe thead th {\n",
       "        text-align: right;\n",
       "    }\n",
       "</style>\n",
       "<table border=\"1\" class=\"dataframe\">\n",
       "  <thead>\n",
       "    <tr style=\"text-align: right;\">\n",
       "      <th></th>\n",
       "      <th>0.8</th>\n",
       "      <th>0.9</th>\n",
       "      <th>1.0</th>\n",
       "      <th>1.1</th>\n",
       "      <th>1.2</th>\n",
       "      <th>1.3</th>\n",
       "    </tr>\n",
       "  </thead>\n",
       "  <tbody>\n",
       "    <tr>\n",
       "      <th>0.0</th>\n",
       "      <td>25.00</td>\n",
       "      <td>25.00</td>\n",
       "      <td>25.00</td>\n",
       "      <td>25.00</td>\n",
       "      <td>25.00</td>\n",
       "      <td>25.00</td>\n",
       "    </tr>\n",
       "    <tr>\n",
       "      <th>0.1</th>\n",
       "      <td>30.86</td>\n",
       "      <td>31.80</td>\n",
       "      <td>33.30</td>\n",
       "      <td>36.40</td>\n",
       "      <td>40.50</td>\n",
       "      <td>44.91</td>\n",
       "    </tr>\n",
       "    <tr>\n",
       "      <th>0.2</th>\n",
       "      <td>31.05</td>\n",
       "      <td>32.01</td>\n",
       "      <td>33.51</td>\n",
       "      <td>36.58</td>\n",
       "      <td>40.62</td>\n",
       "      <td>44.91</td>\n",
       "    </tr>\n",
       "    <tr>\n",
       "      <th>0.3</th>\n",
       "      <td>31.30</td>\n",
       "      <td>32.26</td>\n",
       "      <td>33.65</td>\n",
       "      <td>36.77</td>\n",
       "      <td>40.85</td>\n",
       "      <td>44.98</td>\n",
       "    </tr>\n",
       "    <tr>\n",
       "      <th>0.4</th>\n",
       "      <td>31.34</td>\n",
       "      <td>32.47</td>\n",
       "      <td>33.90</td>\n",
       "      <td>37.07</td>\n",
       "      <td>40.89</td>\n",
       "      <td>45.17</td>\n",
       "    </tr>\n",
       "  </tbody>\n",
       "</table>\n",
       "</div>"
      ],
      "text/plain": [
       "       0.8    0.9    1.0    1.1    1.2    1.3\n",
       "0.0  25.00  25.00  25.00  25.00  25.00  25.00\n",
       "0.1  30.86  31.80  33.30  36.40  40.50  44.91\n",
       "0.2  31.05  32.01  33.51  36.58  40.62  44.91\n",
       "0.3  31.30  32.26  33.65  36.77  40.85  44.98\n",
       "0.4  31.34  32.47  33.90  37.07  40.89  45.17"
      ]
     },
     "execution_count": 8,
     "metadata": {},
     "output_type": "execute_result"
    }
   ],
   "source": [
    "lista_reat = [0, 0.1, 0.2, 0.3, 0.4]\n",
    "table_list = []\n",
    "for reat in lista_reat:\n",
    "    filt = (\n",
    "#          (df['agente'] == 'nobid')\n",
    "        (df['par_reatividade'] == reat)\n",
    "    )\n",
    "\n",
    "    dfx = df.loc[filt]\n",
    "    line = dfx.pivot_table(index=['par_reatividade', 'run'], values='bid',\n",
    "                          columns='file_name', aggfunc='count').mean().tolist()\n",
    "    table_list.append(line)\n",
    "    \n",
    "df_final = pd.DataFrame(table_list, columns=[0.8, 0.9, 1.1, 1.2, 1.3, 1.0], index=lista_reat)\n",
    "df_final.reindex(sorted(df_final.columns), axis=1).round(2)"
   ]
  },
  {
   "cell_type": "code",
   "execution_count": null,
   "id": "4bcd7fb8",
   "metadata": {},
   "outputs": [],
   "source": []
  }
 ],
 "metadata": {
  "kernelspec": {
   "display_name": "Python 3 (ipykernel)",
   "language": "python",
   "name": "python3"
  },
  "language_info": {
   "codemirror_mode": {
    "name": "ipython",
    "version": 3
   },
   "file_extension": ".py",
   "mimetype": "text/x-python",
   "name": "python",
   "nbconvert_exporter": "python",
   "pygments_lexer": "ipython3",
   "version": "3.9.7"
  }
 },
 "nbformat": 4,
 "nbformat_minor": 5
}
