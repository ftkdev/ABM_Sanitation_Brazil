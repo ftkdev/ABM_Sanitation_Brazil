{
 "cells": [
  {
   "cell_type": "code",
   "execution_count": 1,
   "id": "74beef59",
   "metadata": {},
   "outputs": [],
   "source": [
    "import pandas as pd\n",
    "import numpy as np"
   ]
  },
  {
   "cell_type": "code",
   "execution_count": 2,
   "id": "d987c110",
   "metadata": {},
   "outputs": [],
   "source": [
    "df = pd.read_csv('/win/Users/faust/Documents/TCC_MBA/ABM_Project/Results/bid_results001.csv')"
   ]
  },
  {
   "cell_type": "code",
   "execution_count": 3,
   "id": "b24e3775",
   "metadata": {},
   "outputs": [
    {
     "name": "stdout",
     "output_type": "stream",
     "text": [
      "     pop_alvo\n",
      "run          \n",
      "1    0.016297\n",
      "2    0.002774\n",
      "3    0.049832\n",
      "4    0.066552\n",
      "5    0.000179\n",
      "..        ...\n",
      "993  0.028481\n",
      "994  0.010905\n",
      "995  0.147979\n",
      "996  0.011206\n",
      "998  0.003889\n",
      "\n",
      "[900 rows x 1 columns]\n"
     ]
    }
   ],
   "source": [
    "filt = (\n",
    "    df['agente'] == 'nobid'\n",
    ")\n",
    "print(df.loc[filt, :].pivot_table(index='run', values='pop_alvo',\n",
    "                                              aggfunc=np.sum))\n"
   ]
  },
  {
   "cell_type": "code",
   "execution_count": 5,
   "id": "6e79fb41",
   "metadata": {},
   "outputs": [
    {
     "data": {
      "text/plain": [
       "<AxesSubplot:>"
      ]
     },
     "execution_count": 5,
     "metadata": {},
     "output_type": "execute_result"
    },
    {
     "data": {
      "image/png": "[encoded data removed]",
      "text/plain": [
       "<Figure size 432x288 with 1 Axes>"
      ]
     },
     "metadata": {
      "needs_background": "light"
     },
     "output_type": "display_data"
    }
   ],
   "source": [
    "df.loc[filt, :].pivot_table(index='run', values='pop_alvo',\n",
    "                                              aggfunc=np.sum).boxplot()"
   ]
  },
  {
   "cell_type": "code",
   "execution_count": null,
   "id": "36010eef",
   "metadata": {},
   "outputs": [],
   "source": []
  }
 ],
 "metadata": {
  "kernelspec": {
   "display_name": "Python 3 (ipykernel)",
   "language": "python",
   "name": "python3"
  },
  "language_info": {
   "codemirror_mode": {
    "name": "ipython",
    "version": 3
   },
   "file_extension": ".py",
   "mimetype": "text/x-python",
   "name": "python",
   "nbconvert_exporter": "python",
   "pygments_lexer": "ipython3",
   "version": "3.9.7"
  }
 },
 "nbformat": 4,
 "nbformat_minor": 5
}
